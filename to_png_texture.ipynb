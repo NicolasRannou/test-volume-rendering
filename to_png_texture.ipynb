{
 "metadata": {
  "name": "",
  "signature": "sha256:39125a1e3e63d7347412758a148199ae61191fdcca3232a2a6fcca1e0085ff9d"
 },
 "nbformat": 3,
 "nbformat_minor": 0,
 "worksheets": [
  {
   "cells": [
    {
     "cell_type": "code",
     "collapsed": false,
     "input": [
      "import sys\n",
      "sys.path.append('/home/h02/nrobin/git/pypng/')\n",
      "import png"
     ],
     "language": "python",
     "metadata": {},
     "outputs": [],
     "prompt_number": 2
    },
    {
     "cell_type": "code",
     "collapsed": false,
     "input": [
      "dataflattest = np.indices([3**3])\n",
      "data = dataflattest.reshape([3,3,3])"
     ],
     "language": "python",
     "metadata": {},
     "outputs": [],
     "prompt_number": 29
    },
    {
     "cell_type": "code",
     "collapsed": false,
     "input": [
      "dataflatter = data.reshape(3, -1)"
     ],
     "language": "python",
     "metadata": {},
     "outputs": [],
     "prompt_number": 35
    },
    {
     "cell_type": "code",
     "collapsed": false,
     "input": [
      "data"
     ],
     "language": "python",
     "metadata": {},
     "outputs": [
      {
       "metadata": {},
       "output_type": "pyout",
       "prompt_number": 28,
       "text": [
        "array([[[ 0,  1,  2],\n",
        "        [ 3,  4,  5],\n",
        "        [ 6,  7,  8]],\n",
        "\n",
        "       [[ 9, 10, 11],\n",
        "        [12, 13, 14],\n",
        "        [15, 16, 17]],\n",
        "\n",
        "       [[18, 19, 20],\n",
        "        [21, 22, 23],\n",
        "        [24, 25, 26]]])"
       ]
      }
     ],
     "prompt_number": 28
    },
    {
     "cell_type": "code",
     "collapsed": false,
     "input": [
      "dataflatter"
     ],
     "language": "python",
     "metadata": {},
     "outputs": [
      {
       "metadata": {},
       "output_type": "pyout",
       "prompt_number": 36,
       "text": [
        "array([[ 0,  1,  2,  3,  4,  5,  6,  7,  8],\n",
        "       [ 9, 10, 11, 12, 13, 14, 15, 16, 17],\n",
        "       [18, 19, 20, 21, 22, 23, 24, 25, 26]])"
       ]
      }
     ],
     "prompt_number": 36
    },
    {
     "cell_type": "code",
     "collapsed": false,
     "input": [
      "png_writer = png.Writer(height=dataflatter.shape[0], width=dataflatter.shape[1], greyscale=True)"
     ],
     "language": "python",
     "metadata": {},
     "outputs": [],
     "prompt_number": 55
    },
    {
     "cell_type": "code",
     "collapsed": false,
     "input": [
      "png_writer.write(open('./test_data.png', 'wb'), dataflatter)"
     ],
     "language": "python",
     "metadata": {},
     "outputs": [],
     "prompt_number": 56
    },
    {
     "cell_type": "code",
     "collapsed": false,
     "input": [
      "def array_to_png(a, p):\n",
      "    \"\"\"Simple flattens a 3D array into a tiles 2D array and writes to a png\"\"\"\n",
      "    \n",
      "    flata = a.reshape((a.shape[0], -1))"
     ],
     "language": "python",
     "metadata": {},
     "outputs": []
    }
   ],
   "metadata": {}
  }
 ]
}