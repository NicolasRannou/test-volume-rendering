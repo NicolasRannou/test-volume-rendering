{
 "metadata": {
  "name": "",
  "signature": "sha256:232d5602aa88dcb5ce8bd8191ebce40bd6d7e4d68741971b1095f6a29befc8f6"
 },
 "nbformat": 3,
 "nbformat_minor": 0,
 "worksheets": [
  {
   "cells": [
    {
     "cell_type": "markdown",
     "metadata": {},
     "source": [
      "This notebook converts a 3D array into a 2D png suitable for loading as a texture into WebGL"
     ]
    },
    {
     "cell_type": "code",
     "collapsed": false,
     "input": [
      "import png\n",
      "import numpy as np"
     ],
     "language": "python",
     "metadata": {},
     "outputs": [],
     "prompt_number": 1
    },
    {
     "cell_type": "markdown",
     "metadata": {},
     "source": [
      "Make some syntheic 4 x 4 x 4 data to play with. Note that this is a useful shape as the dimension lengths of the 2D texture have to be square numbers."
     ]
    },
    {
     "cell_type": "code",
     "collapsed": false,
     "input": [
      "dataflattest = np.indices([4**3])\n",
      "data = dataflattest.reshape([4,4,4])"
     ],
     "language": "python",
     "metadata": {},
     "outputs": [],
     "prompt_number": 2
    },
    {
     "cell_type": "code",
     "collapsed": false,
     "input": [
      "print data.shape"
     ],
     "language": "python",
     "metadata": {},
     "outputs": [
      {
       "output_type": "stream",
       "stream": "stdout",
       "text": [
        "(4, 4, 4)\n"
       ]
      }
     ],
     "prompt_number": 3
    },
    {
     "cell_type": "code",
     "collapsed": false,
     "input": [
      "data.fill(10)\n",
      "data[3, 2, 2] = 30\n",
      "data[0,0,0] = 30"
     ],
     "language": "python",
     "metadata": {},
     "outputs": [],
     "prompt_number": 4
    },
    {
     "cell_type": "code",
     "collapsed": false,
     "input": [
      "dataflatter = data.reshape(4, -1)"
     ],
     "language": "python",
     "metadata": {},
     "outputs": [],
     "prompt_number": 5
    },
    {
     "cell_type": "code",
     "collapsed": false,
     "input": [
      "data"
     ],
     "language": "python",
     "metadata": {},
     "outputs": [
      {
       "metadata": {},
       "output_type": "pyout",
       "prompt_number": 6,
       "text": [
        "array([[[30, 10, 10, 10],\n",
        "        [10, 10, 10, 10],\n",
        "        [10, 10, 10, 10],\n",
        "        [10, 10, 10, 10]],\n",
        "\n",
        "       [[10, 10, 10, 10],\n",
        "        [10, 10, 10, 10],\n",
        "        [10, 10, 10, 10],\n",
        "        [10, 10, 10, 10]],\n",
        "\n",
        "       [[10, 10, 10, 10],\n",
        "        [10, 10, 10, 10],\n",
        "        [10, 10, 10, 10],\n",
        "        [10, 10, 10, 10]],\n",
        "\n",
        "       [[10, 10, 10, 10],\n",
        "        [10, 10, 10, 10],\n",
        "        [10, 10, 30, 10],\n",
        "        [10, 10, 10, 10]]])"
       ]
      }
     ],
     "prompt_number": 6
    },
    {
     "cell_type": "code",
     "collapsed": false,
     "input": [
      "dataflatter"
     ],
     "language": "python",
     "metadata": {},
     "outputs": [
      {
       "metadata": {},
       "output_type": "pyout",
       "prompt_number": 7,
       "text": [
        "array([[30, 10, 10, 10, 10, 10, 10, 10, 10, 10, 10, 10, 10, 10, 10, 10],\n",
        "       [10, 10, 10, 10, 10, 10, 10, 10, 10, 10, 10, 10, 10, 10, 10, 10],\n",
        "       [10, 10, 10, 10, 10, 10, 10, 10, 10, 10, 10, 10, 10, 10, 10, 10],\n",
        "       [10, 10, 10, 10, 10, 10, 10, 10, 10, 10, 30, 10, 10, 10, 10, 10]])"
       ]
      }
     ],
     "prompt_number": 7
    },
    {
     "cell_type": "code",
     "collapsed": false,
     "input": [
      "png_writer = png.Writer(height=dataflatter.shape[0], width=dataflatter.shape[1], greyscale=True)\n",
      "png_writer.write(open('./test_data_greyscale_centre.png', 'wb'), dataflatter)"
     ],
     "language": "python",
     "metadata": {},
     "outputs": [],
     "prompt_number": 8
    },
    {
     "cell_type": "markdown",
     "metadata": {},
     "source": [
      "I also want a version that repeats the data in every channel i.e. rgba"
     ]
    },
    {
     "cell_type": "code",
     "collapsed": false,
     "input": [
      "png_reader = png.Reader(filename=\"./test_data_greyscale_centre.png\")\n",
      "rgba = png_reader.asRGBA()"
     ],
     "language": "python",
     "metadata": {},
     "outputs": [],
     "prompt_number": 9
    },
    {
     "cell_type": "code",
     "collapsed": false,
     "input": [
      "png_writer = png.Writer(**rgba[3])\n",
      "png_writer.write(open('./test_data_rgba_centre.png', 'wb'), rgba[2])"
     ],
     "language": "python",
     "metadata": {},
     "outputs": [],
     "prompt_number": 10
    },
    {
     "cell_type": "code",
     "collapsed": false,
     "input": [],
     "language": "python",
     "metadata": {},
     "outputs": []
    },
    {
     "cell_type": "markdown",
     "metadata": {},
     "source": [
      "We should also try and combine all of this into a generic function"
     ]
    },
    {
     "cell_type": "code",
     "collapsed": false,
     "input": [
      "def array_to_png(a, p):\n",
      "    \"\"\"Simple flattens a 3D array into a tiles 2D array and writes to a png\"\"\"\n",
      "    \n",
      "    flata = a.reshape((a.shape[0], -1))"
     ],
     "language": "python",
     "metadata": {},
     "outputs": [],
     "prompt_number": 12
    }
   ],
   "metadata": {}
  }
 ]
}