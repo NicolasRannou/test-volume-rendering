{
 "metadata": {
  "name": "",
  "signature": "sha256:1264c90aed65c0dd3b7cec9367c664bfca6f977ad163c22f78e2d15a87d3f08f"
 },
 "nbformat": 3,
 "nbformat_minor": 0,
 "worksheets": [
  {
   "cells": [
    {
     "cell_type": "markdown",
     "metadata": {},
     "source": [
      "This notebook converts a 3D array into a 2D png suitable for loading as a texture into WebGL"
     ]
    },
    {
     "cell_type": "code",
     "collapsed": false,
     "input": [
      "import png\n",
      "import numpy as np"
     ],
     "language": "python",
     "metadata": {},
     "outputs": [],
     "prompt_number": 1
    },
    {
     "cell_type": "markdown",
     "metadata": {},
     "source": [
      "Make some syntheic 4 x 4 x 4 data to play with. Note that this is a useful shape as the dimension lengths of the 2D texture have to be square numbers."
     ]
    },
    {
     "cell_type": "code",
     "collapsed": false,
     "input": [
      "dataflattest = np.indices([4**3])\n",
      "data = dataflattest.reshape([4,4,4])"
     ],
     "language": "python",
     "metadata": {},
     "outputs": [],
     "prompt_number": 2
    },
    {
     "cell_type": "code",
     "collapsed": false,
     "input": [
      "print data.shape"
     ],
     "language": "python",
     "metadata": {},
     "outputs": [
      {
       "output_type": "stream",
       "stream": "stdout",
       "text": [
        "(4, 4, 4)\n"
       ]
      }
     ],
     "prompt_number": 3
    },
    {
     "cell_type": "code",
     "collapsed": false,
     "input": [
      "dataflatter = data.reshape(4, -1)"
     ],
     "language": "python",
     "metadata": {},
     "outputs": [],
     "prompt_number": 4
    },
    {
     "cell_type": "code",
     "collapsed": false,
     "input": [
      "data"
     ],
     "language": "python",
     "metadata": {},
     "outputs": [
      {
       "metadata": {},
       "output_type": "pyout",
       "prompt_number": 5,
       "text": [
        "array([[[ 0,  1,  2,  3],\n",
        "        [ 4,  5,  6,  7],\n",
        "        [ 8,  9, 10, 11],\n",
        "        [12, 13, 14, 15]],\n",
        "\n",
        "       [[16, 17, 18, 19],\n",
        "        [20, 21, 22, 23],\n",
        "        [24, 25, 26, 27],\n",
        "        [28, 29, 30, 31]],\n",
        "\n",
        "       [[32, 33, 34, 35],\n",
        "        [36, 37, 38, 39],\n",
        "        [40, 41, 42, 43],\n",
        "        [44, 45, 46, 47]],\n",
        "\n",
        "       [[48, 49, 50, 51],\n",
        "        [52, 53, 54, 55],\n",
        "        [56, 57, 58, 59],\n",
        "        [60, 61, 62, 63]]])"
       ]
      }
     ],
     "prompt_number": 5
    },
    {
     "cell_type": "code",
     "collapsed": false,
     "input": [
      "dataflatter"
     ],
     "language": "python",
     "metadata": {},
     "outputs": [
      {
       "metadata": {},
       "output_type": "pyout",
       "prompt_number": 6,
       "text": [
        "array([[ 0,  1,  2,  3,  4,  5,  6,  7,  8,  9, 10, 11, 12, 13, 14, 15],\n",
        "       [16, 17, 18, 19, 20, 21, 22, 23, 24, 25, 26, 27, 28, 29, 30, 31],\n",
        "       [32, 33, 34, 35, 36, 37, 38, 39, 40, 41, 42, 43, 44, 45, 46, 47],\n",
        "       [48, 49, 50, 51, 52, 53, 54, 55, 56, 57, 58, 59, 60, 61, 62, 63]])"
       ]
      }
     ],
     "prompt_number": 6
    },
    {
     "cell_type": "code",
     "collapsed": false,
     "input": [
      "png_writer = png.Writer(height=dataflatter.shape[0], width=dataflatter.shape[1], greyscale=True)\n",
      "png_writer.write(open('./test_data_greyscale.png', 'wb'), dataflatter)"
     ],
     "language": "python",
     "metadata": {},
     "outputs": [],
     "prompt_number": 7
    },
    {
     "cell_type": "markdown",
     "metadata": {},
     "source": [
      "I also want a version that repeats the data in every channel i.e. rgba"
     ]
    },
    {
     "cell_type": "code",
     "collapsed": false,
     "input": [
      "png_reader = png.Reader(filename=\"./test_data_greyscale.png\")\n",
      "rgba = png_reader.asRGBA()"
     ],
     "language": "python",
     "metadata": {},
     "outputs": [],
     "prompt_number": 8
    },
    {
     "cell_type": "code",
     "collapsed": false,
     "input": [
      "rgba_list = [i for i in rgba[2]]"
     ],
     "language": "python",
     "metadata": {},
     "outputs": [],
     "prompt_number": 11
    },
    {
     "cell_type": "code",
     "collapsed": false,
     "input": [
      "rgba_list"
     ],
     "language": "python",
     "metadata": {},
     "outputs": [
      {
       "metadata": {},
       "output_type": "pyout",
       "prompt_number": 12,
       "text": [
        "[array('B', [0, 0, 0, 255, 1, 1, 1, 255, 2, 2, 2, 255, 3, 3, 3, 255, 4, 4, 4, 255, 5, 5, 5, 255, 6, 6, 6, 255, 7, 7, 7, 255, 8, 8, 8, 255, 9, 9, 9, 255, 10, 10, 10, 255, 11, 11, 11, 255, 12, 12, 12, 255, 13, 13, 13, 255, 14, 14, 14, 255, 15, 15, 15, 255]),\n",
        " array('B', [16, 16, 16, 255, 17, 17, 17, 255, 18, 18, 18, 255, 19, 19, 19, 255, 20, 20, 20, 255, 21, 21, 21, 255, 22, 22, 22, 255, 23, 23, 23, 255, 24, 24, 24, 255, 25, 25, 25, 255, 26, 26, 26, 255, 27, 27, 27, 255, 28, 28, 28, 255, 29, 29, 29, 255, 30, 30, 30, 255, 31, 31, 31, 255]),\n",
        " array('B', [32, 32, 32, 255, 33, 33, 33, 255, 34, 34, 34, 255, 35, 35, 35, 255, 36, 36, 36, 255, 37, 37, 37, 255, 38, 38, 38, 255, 39, 39, 39, 255, 40, 40, 40, 255, 41, 41, 41, 255, 42, 42, 42, 255, 43, 43, 43, 255, 44, 44, 44, 255, 45, 45, 45, 255, 46, 46, 46, 255, 47, 47, 47, 255]),\n",
        " array('B', [48, 48, 48, 255, 49, 49, 49, 255, 50, 50, 50, 255, 51, 51, 51, 255, 52, 52, 52, 255, 53, 53, 53, 255, 54, 54, 54, 255, 55, 55, 55, 255, 56, 56, 56, 255, 57, 57, 57, 255, 58, 58, 58, 255, 59, 59, 59, 255, 60, 60, 60, 255, 61, 61, 61, 255, 62, 62, 62, 255, 63, 63, 63, 255])]"
       ]
      }
     ],
     "prompt_number": 12
    },
    {
     "cell_type": "code",
     "collapsed": false,
     "input": [
      "png_writer = png.Writer(**rgba[3])\n",
      "png_writer.write(open('./test_data_rgba.png', 'wb'), rgba[2])"
     ],
     "language": "python",
     "metadata": {},
     "outputs": [],
     "prompt_number": 64
    },
    {
     "cell_type": "markdown",
     "metadata": {},
     "source": [
      "We should also try and combine all of this into a generic function"
     ]
    },
    {
     "cell_type": "code",
     "collapsed": false,
     "input": [
      "def array_to_png(a, p):\n",
      "    \"\"\"Simple flattens a 3D array into a tiles 2D array and writes to a png\"\"\"\n",
      "    \n",
      "    flata = a.reshape((a.shape[0], -1))"
     ],
     "language": "python",
     "metadata": {},
     "outputs": [],
     "prompt_number": 12
    }
   ],
   "metadata": {}
  }
 ]
}