{
 "metadata": {
  "name": "",
  "signature": "sha256:c3ec679a658a477a4e17effe3d2bb88c06b1e6549767094d4ad88ded4d1a39a9"
 },
 "nbformat": 3,
 "nbformat_minor": 0,
 "worksheets": [
  {
   "cells": [
    {
     "cell_type": "code",
     "collapsed": false,
     "input": [
      "from itertools import izip"
     ],
     "language": "python",
     "metadata": {},
     "outputs": [],
     "prompt_number": 4
    },
    {
     "cell_type": "code",
     "collapsed": false,
     "input": [
      "xcrd, ycrd, zcrd = np.meshgrid(subd.coord('longitude').points,\n",
      "                              subd.coord('latitude').points,\n",
      "                              subd.coord('level_height').points)"
     ],
     "language": "python",
     "metadata": {},
     "outputs": [],
     "prompt_number": 5
    },
    {
     "cell_type": "code",
     "collapsed": false,
     "input": [
      "vertices = []\n",
      "for x, y, z in izip(xcrd.flatten(),\n",
      "                    ycrd.flatten(),\n",
      "                    zcrd.flatten()):\n",
      "    vertices.append({'x': float(\"%.2f\" % x),\n",
      "                     'y': float(\"%.2f\" % y),\n",
      "                     'z': float(\"%.2f\" % z)})"
     ],
     "language": "python",
     "metadata": {},
     "outputs": [],
     "prompt_number": 6
    },
    {
     "cell_type": "code",
     "collapsed": false,
     "input": [
      "ds = []\n",
      "for i, t in enumerate(subd.slices_over('time')):\n",
      "    print \".\",\n",
      "    t.transpose((1, 2, 0))\n",
      "    \n",
      "    assert t.shape == xcrd.shape\n",
      "    \n",
      "    this_data = tuple([float(\"%.2f\" % _) for _ in t.data.flatten()])\n",
      "    ds.append(this_data)"
     ],
     "language": "python",
     "metadata": {},
     "outputs": [
      {
       "output_type": "stream",
       "stream": "stdout",
       "text": [
        ". "
       ]
      },
      {
       "output_type": "stream",
       "stream": "stdout",
       "text": [
        ". "
       ]
      },
      {
       "output_type": "stream",
       "stream": "stdout",
       "text": [
        ". "
       ]
      },
      {
       "output_type": "stream",
       "stream": "stdout",
       "text": [
        ". "
       ]
      },
      {
       "output_type": "stream",
       "stream": "stdout",
       "text": [
        ". "
       ]
      },
      {
       "output_type": "stream",
       "stream": "stdout",
       "text": [
        ". "
       ]
      },
      {
       "output_type": "stream",
       "stream": "stdout",
       "text": [
        ". "
       ]
      },
      {
       "output_type": "stream",
       "stream": "stdout",
       "text": [
        ". "
       ]
      },
      {
       "output_type": "stream",
       "stream": "stdout",
       "text": [
        ". "
       ]
      },
      {
       "output_type": "stream",
       "stream": "stdout",
       "text": [
        ". "
       ]
      },
      {
       "output_type": "stream",
       "stream": "stdout",
       "text": [
        ". "
       ]
      },
      {
       "output_type": "stream",
       "stream": "stdout",
       "text": [
        ".\n"
       ]
      }
     ],
     "prompt_number": 7
    },
    {
     "cell_type": "code",
     "collapsed": false,
     "input": [
      "data = np.recfromcsv('./radar_data/pc.txt')\n",
      "vertices = []\n",
      "ds = [[]]\n",
      "for p in data:\n",
      "    if p[3] < 400:\n",
      "        vertices.append({'x': float(p[0]/1000.), 'y': float(p[1]/1000.), 'z': float(p[2])/1000.})\n",
      "        ds[0].append(float(p[3]))"
     ],
     "language": "python",
     "metadata": {},
     "outputs": [],
     "prompt_number": 23
    },
    {
     "cell_type": "code",
     "collapsed": false,
     "input": [
      "import json\n",
      "with open('./radar_data/pc_no_md.json', 'w') as f:\n",
      "    js = json.dumps({'vertices': vertices,\n",
      "                     'values': ds})\n",
      "    f.write(js)"
     ],
     "language": "python",
     "metadata": {},
     "outputs": [],
     "prompt_number": 24
    },
    {
     "cell_type": "heading",
     "level": 2,
     "metadata": {},
     "source": [
      "Check encoding"
     ]
    },
    {
     "cell_type": "code",
     "collapsed": false,
     "input": [
      "import json\n",
      "with open('./cloudfrac.json', 'r') as f:\n",
      "    d = json.load(f)"
     ],
     "language": "python",
     "metadata": {},
     "outputs": [],
     "prompt_number": 37
    },
    {
     "cell_type": "code",
     "collapsed": false,
     "input": [
      "vals = d['values'][0]\n",
      "verts = d['vertices']"
     ],
     "language": "python",
     "metadata": {},
     "outputs": [],
     "prompt_number": 38
    },
    {
     "cell_type": "code",
     "collapsed": false,
     "input": [
      "from itertools import izip\n",
      "\n",
      "for vert, val in izip(verts, vals):\n",
      "    loncon = iris.Constraint(longitude=\\\n",
      "                lambda c:(float(vert['x'])-0.005) < c.point < (float(vert['x'])+0.005))\n",
      "    latcon = iris.Constraint(latitude=\\\n",
      "                lambda c:(float(vert['y'])-0.005) < c.point < (float(vert['y'])+0.005))\n",
      "    levcon = iris.Constraint(level_height=\\\n",
      "                lambda c:(float(vert['z'])-0.005) < c.point < (float(vert['z'])+0.005))\n",
      "    \n",
      "    if (float(val)-0.005) < subd[0].extract(loncon&latcon&levcon).data < (float(val)+0.005):\n",
      "        print \".\",\n",
      "    else:\n",
      "        print vert\n",
      "        print val\n",
      "        print subd[0].extract(loncon&latcon&levcon).data"
     ],
     "language": "python",
     "metadata": {},
     "outputs": []
    },
    {
     "cell_type": "heading",
     "level": 3,
     "metadata": {},
     "source": [
      "Array encoding"
     ]
    },
    {
     "cell_type": "code",
     "collapsed": false,
     "input": [
      "import sys\n",
      "sys.path.append('/home/h02/nrobin/git/mongo-python-driver/')\n",
      "import bson"
     ],
     "language": "python",
     "metadata": {},
     "outputs": [],
     "prompt_number": 1
    },
    {
     "cell_type": "code",
     "collapsed": false,
     "input": [
      "from bson import Binary, Code\n",
      "from bson.json_util import dumps\n",
      "import array"
     ],
     "language": "python",
     "metadata": {},
     "outputs": []
    },
    {
     "cell_type": "code",
     "collapsed": false,
     "input": [
      "binarray = array.array('f', [1., 2., 3.])"
     ],
     "language": "python",
     "metadata": {},
     "outputs": [],
     "prompt_number": 5
    },
    {
     "cell_type": "code",
     "collapsed": false,
     "input": [
      "import json\n",
      "json.loads?"
     ],
     "language": "python",
     "metadata": {},
     "outputs": [],
     "prompt_number": 22
    },
    {
     "cell_type": "code",
     "collapsed": false,
     "input": [
      "with open('/home/h02/nrobin/git/potree/resources/data/testbin.json', 'wb') as f:\n",
      "    f.write(dumps({'a': 'a string', 'b': 42., 'c': Binary(binarray.tostring())}))"
     ],
     "language": "python",
     "metadata": {},
     "outputs": [],
     "prompt_number": 34
    },
    {
     "cell_type": "code",
     "collapsed": false,
     "input": [
      "from bson.json_util import loads\n",
      "with open('/home/h02/nrobin/git/potree/resources/data/testbin.json', 'rb') as f:\n",
      "    jsonin = loads(f.read())"
     ],
     "language": "python",
     "metadata": {},
     "outputs": [],
     "prompt_number": 35
    },
    {
     "cell_type": "code",
     "collapsed": false,
     "input": [
      "binin = jsonin['c']"
     ],
     "language": "python",
     "metadata": {},
     "outputs": [],
     "prompt_number": 36
    },
    {
     "cell_type": "code",
     "collapsed": false,
     "input": [
      "array.array.fromstring()"
     ],
     "language": "python",
     "metadata": {},
     "outputs": [
      {
       "ename": "TypeError",
       "evalue": "descriptor 'fromstring' requires a 'array.array' object but received a 'Binary'",
       "output_type": "pyerr",
       "traceback": [
        "\u001b[1;31m---------------------------------------------------------------------------\u001b[0m\n\u001b[1;31mTypeError\u001b[0m                                 Traceback (most recent call last)",
        "\u001b[1;32m<ipython-input-28-328291a22041>\u001b[0m in \u001b[0;36m<module>\u001b[1;34m()\u001b[0m\n\u001b[1;32m----> 1\u001b[1;33m \u001b[0marray\u001b[0m\u001b[1;33m.\u001b[0m\u001b[0marray\u001b[0m\u001b[1;33m.\u001b[0m\u001b[0mfromstring\u001b[0m\u001b[1;33m(\u001b[0m\u001b[0mjsonin\u001b[0m\u001b[1;33m[\u001b[0m\u001b[1;34m'c'\u001b[0m\u001b[1;33m]\u001b[0m\u001b[1;33m)\u001b[0m\u001b[1;33m\u001b[0m\u001b[0m\n\u001b[0m",
        "\u001b[1;31mTypeError\u001b[0m: descriptor 'fromstring' requires a 'array.array' object but received a 'Binary'"
       ]
      }
     ],
     "prompt_number": 28
    },
    {
     "cell_type": "code",
     "collapsed": false,
     "input": [],
     "language": "python",
     "metadata": {},
     "outputs": []
    }
   ],
   "metadata": {}
  }
 ]
}